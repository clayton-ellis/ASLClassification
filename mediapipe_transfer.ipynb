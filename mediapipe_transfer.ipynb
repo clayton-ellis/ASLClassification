{
 "cells": [
  {
   "cell_type": "code",
   "execution_count": 95,
   "id": "c5254f7a",
   "metadata": {},
   "outputs": [
    {
     "name": "stdout",
     "output_type": "stream",
     "text": [
      "['.DS_Store', 'models.py', 'valid_ASL_data.pt', 'mediapipe_transfer.ipynb', 'testing.ipynb', '__pycache__', 'utils.py', 'mediapipe_transfer.py', '.git', '.vscode', 'graph_data_loading.py', 'mediapipe_transform.py', 'ASL_Data']\n",
      "Detected 1 hand(s).\n"
     ]
    },
    {
     "name": "stderr",
     "output_type": "stream",
     "text": [
      "I0000 00:00:1747272289.016389       1 gl_context.cc:344] GL version: 2.1 (2.1 Metal - 89.3), renderer: Apple M3 Pro\n"
     ]
    }
   ],
   "source": [
    "import cv2\n",
    "import os\n",
    "import mediapipe as mp\n",
    "import gc\n",
    "from tqdm import *\n",
    "import torch\n",
    "from torch_geometric.data import DataLoader\n",
    "import torch_geometric\n",
    "#import torch.nn as nn\n",
    "from mediapipe_transform import image_to_graph\n",
    "\n",
    "from utils import *\n",
    "\n",
    "\n",
    "# Load image\n",
    "print(os.listdir())\n",
    "path = os.path.expanduser('./ASL_Data/asl_alphabet_train/asl_alphabet_train/B/B9.jpg')\n",
    "image = cv2.imread(path)\n",
    "image_rgb = cv2.cvtColor(image, cv2.COLOR_BGR2RGB)\n",
    "\n",
    "# Initialize MediaPipe Hands\n",
    "mp_hands = mp.solutions.hands\n",
    "hands = mp_hands.Hands(static_image_mode=True, max_num_hands=1, min_detection_confidence=0.3)\n",
    "\n",
    "# Process image\n",
    "results = hands.process(image_rgb)\n",
    "\n",
    "# Draw results\n",
    "if results.multi_hand_landmarks:\n",
    "    print(f\"Detected {len(results.multi_hand_landmarks)} hand(s).\")\n",
    "    for hand_landmarks in results.multi_hand_landmarks:\n",
    "        mp.solutions.drawing_utils.draw_landmarks(\n",
    "            image, hand_landmarks, mp_hands.HAND_CONNECTIONS)\n",
    "else:\n",
    "    print(\"No hands detected.\")\n",
    "\n",
    "# Show image\n",
    "#cv2.imshow(\"Hand Detection\", image)\n",
    "#cv2.waitKey(0)\n",
    "#cv2.destroyAllWindows()"
   ]
  },
  {
   "cell_type": "code",
   "execution_count": 96,
   "id": "3e71ee35",
   "metadata": {},
   "outputs": [
    {
     "name": "stdout",
     "output_type": "stream",
     "text": [
      "    hand_index  landmark_index         x         y             z connected_to\n",
      "0            0               0  0.542424  0.056221  7.720606e-07   [5, 17, 1]\n",
      "1            0               1  0.678073  0.113741 -8.402520e-02       [0, 2]\n",
      "2            0               2  0.760190  0.246924 -1.167022e-01       [1, 3]\n",
      "3            0               3  0.703754  0.356262 -1.400449e-01       [4, 2]\n",
      "4            0               4  0.596519  0.371651 -1.623484e-01          [3]\n",
      "5            0               5  0.691353  0.438471 -5.630908e-02    [0, 6, 9]\n",
      "6            0               6  0.688316  0.589617 -9.876654e-02       [5, 7]\n",
      "7            0               7  0.673873  0.678728 -1.381861e-01       [6, 8]\n",
      "8            0               8  0.658365  0.758907 -1.682497e-01          [7]\n",
      "9            0               9  0.606306  0.452494 -4.635421e-02  [5, 10, 13]\n",
      "10           0              10  0.606449  0.621111 -8.030972e-02      [9, 11]\n",
      "11           0              11  0.599289  0.723272 -1.155634e-01     [10, 12]\n",
      "12           0              12  0.594827  0.808404 -1.432110e-01         [11]\n",
      "13           0              13  0.533021  0.434938 -4.661214e-02  [14, 17, 9]\n",
      "14           0              14  0.530280  0.594602 -8.170035e-02     [13, 15]\n",
      "15           0              15  0.531246  0.694927 -1.079951e-01     [14, 16]\n",
      "16           0              16  0.533300  0.776281 -1.266212e-01         [15]\n",
      "17           0              17  0.459120  0.391626 -5.558783e-02  [18, 0, 13]\n",
      "18           0              18  0.461207  0.519984 -8.455771e-02     [17, 19]\n",
      "19           0              19  0.465530  0.598200 -9.800413e-02     [18, 20]\n",
      "20           0              20  0.466707  0.668465 -1.078322e-01         [19]\n"
     ]
    }
   ],
   "source": [
    "import pandas as pd\n",
    "from collections import defaultdict\n",
    "from mediapipe.framework.formats import landmark_pb2\n",
    "\n",
    "hand_map = defaultdict(list)\n",
    "for start_idx, end_idx in mp.solutions.hands.HAND_CONNECTIONS:\n",
    "        hand_map[start_idx].append(end_idx)\n",
    "        hand_map[end_idx].append(start_idx) \n",
    "\n",
    "def hand_connections_and_landmarks(results: landmark_pb2.NormalizedLandmarkList, connection_map: defaultdict) -> pd.DataFrame:\n",
    "    # Build landmark rows with connected landmark indices\n",
    "    landmark_rows = []\n",
    "    for hand_idx, hand_landmarks in enumerate(results.multi_hand_landmarks):\n",
    "        for i, landmark in enumerate(hand_landmarks.landmark):\n",
    "            landmark_rows.append({\n",
    "                'hand_index': hand_idx,\n",
    "                'landmark_index': i,\n",
    "                'x': landmark.x,\n",
    "                'y': 1 - landmark.y, # Invert y-axis for image coordinates\n",
    "                'z': landmark.z,\n",
    "                'connected_to': connection_map[i] \n",
    "            })\n",
    "    return(pd.DataFrame(landmark_rows))\n",
    "\n",
    "landmark_df = hand_connections_and_landmarks(results, hand_map)\n",
    "print(landmark_df)"
   ]
  },
  {
   "cell_type": "code",
   "execution_count": 97,
   "id": "2102e8a9",
   "metadata": {},
   "outputs": [],
   "source": [
    "import torch\n",
    "from torch_geometric.data import Data\n",
    "\n",
    "def hand_graph(df: pd.DataFrame, label: int) -> Data:\n",
    "    # Sort by landmark index to ensure node order\n",
    "    df = df.sort_values('landmark_index')\n",
    "    \n",
    "    # Node features: x, y, z\n",
    "    x = torch.tensor(df[['x', 'y', 'z']].values, dtype=torch.float)\n",
    "\n",
    "    # Extract edges from `connected_to`\n",
    "    edge_list = []\n",
    "    for _, row in df.iterrows():\n",
    "        src = row['landmark_index']\n",
    "        for dst in row['connected_to']:\n",
    "            edge_list.append((src, dst)) \n",
    "\n",
    "    # Ensure bidirectionality and remove duplicates\n",
    "    edge_list += [(dst, src) for (src, dst) in edge_list]\n",
    "    edge_list = list(set(edge_list))  # remove duplicates\n",
    "    edge_index = torch.tensor(edge_list, dtype=torch.long).t().contiguous()  # [2, num_edges]\n",
    "\n",
    "    # Label\n",
    "    y = torch.tensor([label], dtype=torch.long)\n",
    "\n",
    "    return Data(x=x, edge_index=edge_index, y=y)\n"
   ]
  },
  {
   "cell_type": "code",
   "execution_count": 98,
   "id": "382f27d8",
   "metadata": {},
   "outputs": [
    {
     "data": {
      "text/plain": [
       "Data(x=[21, 3], edge_index=[2, 42], y=[1])"
      ]
     },
     "execution_count": 98,
     "metadata": {},
     "output_type": "execute_result"
    }
   ],
   "source": [
    "T_label = 19\n",
    "graph_for_T = hand_graph(landmark_df, label=T_label)\n",
    "graph_for_T"
   ]
  },
  {
   "cell_type": "code",
   "execution_count": 99,
   "id": "adf6a93a",
   "metadata": {},
   "outputs": [
    {
     "data": {
      "image/png": "[encoded data removed]",
      "text/plain": [
       "<Figure size 800x600 with 1 Axes>"
      ]
     },
     "metadata": {},
     "output_type": "display_data"
    }
   ],
   "source": [
    "from torch_geometric.utils import to_networkx\n",
    "import networkx as nx\n",
    "import matplotlib.pyplot as plt\n",
    "\n",
    "G = to_networkx(graph_for_T, to_undirected=True)\n",
    "pos = {i: (graph_for_T.x[i][0].item(), graph_for_T.x[i][1].item()) for i in range(graph_for_T.num_nodes)}\n",
    "\n",
    "plt.figure(figsize=(8, 6))\n",
    "nx.draw(G, pos, with_labels=True, node_color='orange', edge_color='gray', node_size=500)\n",
    "plt.title(\"ASL 'T' Hand Graph\")\n",
    "plt.axis('equal')\n",
    "plt.show()"
   ]
  },
  {
   "cell_type": "code",
   "execution_count": 102,
   "id": "57faf9b0",
   "metadata": {},
   "outputs": [],
   "source": [
    "from torch_geometric.nn import GCNConv, global_mean_pool, SGConv\n",
    "import torch.nn as nn\n",
    "import torch.nn.functional as F\n",
    "\n",
    "class HandGNN(torch.nn.Module):\n",
    "    def __init__(self, num_classes, dropout_rate=0.2, device='cpu'):\n",
    "        super().__init__()\n",
    "\n",
    "        # Convolution dimensions\n",
    "        dc1 = 256\n",
    "        dc2 = dc1\n",
    "        dc3 = 64\n",
    "        # Linear dimensions\n",
    "        dl1 = dc3\n",
    "\n",
    "        self.conv1 = SGConv(in_channels=3, out_channels=dc1)\n",
    "        self.conv2 = SGConv(in_channels=dc1, out_channels=dc2)\n",
    "        self.conv3 = SGConv(in_channels=dc2, out_channels=dc3)\n",
    "        \n",
    "        self.bn1 = nn.BatchNorm1d(dc1)\n",
    "        self.bn2 = nn.BatchNorm1d(dc2)\n",
    "        self.bn3 = nn.BatchNorm1d(dc3)\n",
    "\n",
    "        self.lin1 = nn.Linear(dc3, dl1)\n",
    "        self.lin2 = nn.Linear(dl1, num_classes)\n",
    "        self.drop = nn.Dropout(dropout_rate)\n",
    "\n",
    "        self.train_loss_history = []\n",
    "        self.val_loss_history = []\n",
    "\n",
    "        self.trained_epochs = 0\n",
    "\n",
    "        self.best_acc = 0\n",
    "        self.best_model_state_dict = None\n",
    "\n",
    "    def forward(self, x, edge_index, batch):\n",
    "        x = self.conv1(x, edge_index)\n",
    "        x = self.bn1(x)\n",
    "        x = F.relu(x)\n",
    "        id1 = x\n",
    "        x = self.conv2(x, edge_index)\n",
    "        x = self.bn2(x)\n",
    "        x = F.relu(x) + id1\n",
    "        x = self.conv3(x, edge_index)\n",
    "        x = self.bn3(x)\n",
    "        x = F.relu(x)\n",
    "        #x = self.drop(x)\n",
    "        x = global_mean_pool(x, batch)\n",
    "        id2 = x\n",
    "        x = self.lin1(x)\n",
    "        x = self.drop(x)\n",
    "        x = F.relu(x) + id2\n",
    "        x = self.lin2(x)\n",
    "        \n",
    "        return x \n",
    "    \n",
    "    def fit(self, train_loader, val_loader, epochs: int = 50, lr: float = 1e-3):\n",
    "        crit = nn.CrossEntropyLoss(reduction = 'sum')\n",
    "        optimizer = torch.optim.Adam(self.parameters(), lr = lr, weight_decay = 0)\n",
    "        scheduler = torch.optim.lr_scheduler.MultiplicativeLR(\n",
    "            optimizer, lambda epoch: 0.99 if epoch > 20 else 0.95\n",
    "        )\n",
    "        \n",
    "        for epoch in range(1, epochs+1):\n",
    "\n",
    "            n_train = 0\n",
    "            num_correct_train = 0\n",
    "            n_val = 0\n",
    "            num_correct_val = 0\n",
    "\n",
    "            training_loss = 0\n",
    "            val_loss = 0\n",
    "            \n",
    "            self.train()\n",
    "            for data in tqdm(train_loader):\n",
    "                #print(data.batch)\n",
    "                optimizer.zero_grad()\n",
    "                preds = self.forward(data.x, data.edge_index, data.batch)\n",
    "                pred_signs = preds.argmax(dim=1) == data.y.long()\n",
    "                num_correct_train += pred_signs.sum()\n",
    "                loss = crit(preds, data.y.long())\n",
    "                training_loss += loss.item() #/ data.num_graphs\n",
    "                n_train += data.num_graphs\n",
    "                loss.backward()\n",
    "                optimizer.step()\n",
    "            \n",
    "            self.eval()\n",
    "            with torch.no_grad():\n",
    "                for data in tqdm(val_loader):\n",
    "                    \n",
    "                    preds = self.forward(data.x, data.edge_index, data.batch)\n",
    "                    pred_signs = preds.argmax(dim=1) == data.y.long()\n",
    "                    num_correct_val += pred_signs.sum()\n",
    "                    val_loss += crit(preds, data.y.long()).item() #/ data.num_graphs\n",
    "                    n_val += data.num_graphs\n",
    "            \n",
    "            if num_correct_val/n_val > self.best_acc:\n",
    "                print('Best Model Found')\n",
    "                self.best_acc = num_correct_val/n_val\n",
    "                self.best_model_state_dict = self.state_dict\n",
    "\n",
    "            print(f'Current Learning Rate: {scheduler.get_last_lr()}')\n",
    "            scheduler.step(self.trained_epochs)\n",
    "            self.train_loss_history.append(training_loss/n_train)\n",
    "            self.val_loss_history.append(val_loss/n_val)\n",
    "            self.trained_epochs += 1\n",
    "            \n",
    "            print(f'Epoch {epoch}:\\nLoss- Train Loss: {training_loss/n_train},\\nVal Loss: {val_loss/n_val},\\nTrain Accuracy: {num_correct_train/n_train},\\nVal Accuracy: {num_correct_val/n_val}\\n')\n",
    "\n",
    "\n"
   ]
  },
  {
   "cell_type": "code",
   "execution_count": 103,
   "id": "781d24e2",
   "metadata": {},
   "outputs": [],
   "source": [
    "data_list = torch.load('valid_ASL_data.pt')\n",
    "train_data, val_data, test_data = data_split(data_list, train_prop = 0.8, val_prop = 0.1, seed = 1)\n",
    "\n",
    "train_loader = torch_geometric.loader.DataLoader(train_data, batch_size = 256, shuffle = True)\n",
    "val_loader = torch_geometric.loader.DataLoader(val_data, batch_size = 128, shuffle = True)\n",
    "test_loader = torch_geometric.loader.DataLoader(test_data, batch_size = 128, shuffle = True)\n"
   ]
  },
  {
   "cell_type": "code",
   "execution_count": 104,
   "id": "5e11e4af",
   "metadata": {},
   "outputs": [
    {
     "name": "stderr",
     "output_type": "stream",
     "text": [
      "100%|██████████| 196/196 [02:00<00:00,  1.63it/s]\n",
      "100%|██████████| 49/49 [00:12<00:00,  4.06it/s]\n",
      "/opt/anaconda3/envs/ASL_Project2/lib/python3.10/site-packages/torch/optim/lr_scheduler.py:156: UserWarning: The epoch parameter in `scheduler.step()` was not necessary and is being deprecated where possible. Please use `scheduler.step()` to step the scheduler. During the deprecation, if epoch is different from None, the closed form is used instead of the new chainable form, where available. Please open an issue if you are unable to replicate your use case: https://github.com/pytorch/pytorch/issues/new/choose.\n",
      "  warnings.warn(EPOCH_DEPRECATION_WARNING, UserWarning)\n"
     ]
    },
    {
     "name": "stdout",
     "output_type": "stream",
     "text": [
      "Best Model Found\n",
      "Current Learning Rate: [0.01]\n",
      "Epoch 1:\n",
      "Loss- Train Loss: 2.630015969514866,\n",
      "Val Loss: 2.888077919921875,\n",
      "Train Accuracy: 0.20773662626743317,\n",
      "Val Accuracy: 0.2030400037765503\n",
      "\n"
     ]
    },
    {
     "name": "stderr",
     "output_type": "stream",
     "text": [
      "100%|██████████| 196/196 [02:14<00:00,  1.46it/s]\n",
      "100%|██████████| 49/49 [00:11<00:00,  4.36it/s]\n"
     ]
    },
    {
     "name": "stdout",
     "output_type": "stream",
     "text": [
      "Best Model Found\n",
      "Current Learning Rate: [0.01]\n",
      "Epoch 2:\n",
      "Loss- Train Loss: 2.122959530060745,\n",
      "Val Loss: 2.2088536987304686,\n",
      "Train Accuracy: 0.33696696162223816,\n",
      "Val Accuracy: 0.3176000118255615\n",
      "\n"
     ]
    },
    {
     "name": "stderr",
     "output_type": "stream",
     "text": [
      "100%|██████████| 196/196 [02:17<00:00,  1.42it/s]\n",
      "100%|██████████| 49/49 [00:10<00:00,  4.87it/s]\n"
     ]
    },
    {
     "name": "stdout",
     "output_type": "stream",
     "text": [
      "Best Model Found\n",
      "Current Learning Rate: [0.0095]\n",
      "Epoch 3:\n",
      "Loss- Train Loss: 1.8833056379007391,\n",
      "Val Loss: 1.9740605737304688,\n",
      "Train Accuracy: 0.41035282611846924,\n",
      "Val Accuracy: 0.3558399975299835\n",
      "\n"
     ]
    },
    {
     "name": "stderr",
     "output_type": "stream",
     "text": [
      "100%|██████████| 196/196 [02:16<00:00,  1.43it/s]\n",
      "100%|██████████| 49/49 [00:11<00:00,  4.40it/s]\n"
     ]
    },
    {
     "name": "stdout",
     "output_type": "stream",
     "text": [
      "Current Learning Rate: [0.009025]\n",
      "Epoch 4:\n",
      "Loss- Train Loss: 1.7073862986980852,\n",
      "Val Loss: 2.6094635986328125,\n",
      "Train Accuracy: 0.4572365880012512,\n",
      "Val Accuracy: 0.31376001238822937\n",
      "\n"
     ]
    },
    {
     "name": "stderr",
     "output_type": "stream",
     "text": [
      "100%|██████████| 196/196 [02:18<00:00,  1.42it/s]\n",
      "100%|██████████| 49/49 [00:10<00:00,  4.48it/s]\n"
     ]
    },
    {
     "name": "stdout",
     "output_type": "stream",
     "text": [
      "Current Learning Rate: [0.00857375]\n",
      "Epoch 5:\n",
      "Loss- Train Loss: 1.5636102511736094,\n",
      "Val Loss: 2.3482004443359377,\n",
      "Train Accuracy: 0.49987998604774475,\n",
      "Val Accuracy: 0.3400000035762787\n",
      "\n"
     ]
    },
    {
     "name": "stderr",
     "output_type": "stream",
     "text": [
      "100%|██████████| 196/196 [02:15<00:00,  1.45it/s]\n",
      "100%|██████████| 49/49 [00:11<00:00,  4.43it/s]\n"
     ]
    },
    {
     "name": "stdout",
     "output_type": "stream",
     "text": [
      "Best Model Found\n",
      "Current Learning Rate: [0.0081450625]\n",
      "Epoch 6:\n",
      "Loss- Train Loss: 1.4375062717114537,\n",
      "Val Loss: 1.6411009692382812,\n",
      "Train Accuracy: 0.5374829769134521,\n",
      "Val Accuracy: 0.4846400022506714\n",
      "\n"
     ]
    },
    {
     "name": "stderr",
     "output_type": "stream",
     "text": [
      "100%|██████████| 196/196 [02:11<00:00,  1.49it/s]\n",
      "100%|██████████| 49/49 [00:10<00:00,  4.67it/s]\n"
     ]
    },
    {
     "name": "stdout",
     "output_type": "stream",
     "text": [
      "Current Learning Rate: [0.007737809374999999]\n",
      "Epoch 7:\n",
      "Loss- Train Loss: 1.3456805475102072,\n",
      "Val Loss: 1.6977241650390624,\n",
      "Train Accuracy: 0.5690455436706543,\n",
      "Val Accuracy: 0.476639986038208\n",
      "\n"
     ]
    },
    {
     "name": "stderr",
     "output_type": "stream",
     "text": [
      "100%|██████████| 196/196 [02:17<00:00,  1.42it/s]\n",
      "100%|██████████| 49/49 [00:10<00:00,  4.53it/s]\n"
     ]
    },
    {
     "name": "stdout",
     "output_type": "stream",
     "text": [
      "Current Learning Rate: [0.007350918906249998]\n",
      "Epoch 8:\n",
      "Loss- Train Loss: 1.27076940508268,\n",
      "Val Loss: 2.039818837890625,\n",
      "Train Accuracy: 0.593127429485321,\n",
      "Val Accuracy: 0.450080007314682\n",
      "\n"
     ]
    },
    {
     "name": "stderr",
     "output_type": "stream",
     "text": [
      "100%|██████████| 196/196 [02:26<00:00,  1.34it/s]\n",
      "100%|██████████| 49/49 [00:10<00:00,  4.60it/s]\n"
     ]
    },
    {
     "name": "stdout",
     "output_type": "stream",
     "text": [
      "Best Model Found\n",
      "Current Learning Rate: [0.006983372960937498]\n",
      "Epoch 9:\n",
      "Loss- Train Loss: 1.2090104946432825,\n",
      "Val Loss: 1.5122695141601563,\n",
      "Train Accuracy: 0.6130290627479553,\n",
      "Val Accuracy: 0.5366399884223938\n",
      "\n"
     ]
    },
    {
     "name": "stderr",
     "output_type": "stream",
     "text": [
      "100%|██████████| 196/196 [02:24<00:00,  1.36it/s]\n",
      "100%|██████████| 49/49 [00:10<00:00,  4.66it/s]\n"
     ]
    },
    {
     "name": "stdout",
     "output_type": "stream",
     "text": [
      "Current Learning Rate: [0.006634204312890623]\n",
      "Epoch 10:\n",
      "Loss- Train Loss: 1.1414234523954787,\n",
      "Val Loss: 2.3930445068359374,\n",
      "Train Accuracy: 0.633830726146698,\n",
      "Val Accuracy: 0.41631999611854553\n",
      "\n"
     ]
    },
    {
     "name": "stderr",
     "output_type": "stream",
     "text": [
      "100%|██████████| 196/196 [02:10<00:00,  1.50it/s]\n",
      "100%|██████████| 49/49 [00:12<00:00,  3.99it/s]\n"
     ]
    },
    {
     "name": "stdout",
     "output_type": "stream",
     "text": [
      "Best Model Found\n",
      "Current Learning Rate: [0.006302494097246091]\n",
      "Epoch 11:\n",
      "Loss- Train Loss: 1.0719189424497222,\n",
      "Val Loss: 1.2771418811035156,\n",
      "Train Accuracy: 0.6562125086784363,\n",
      "Val Accuracy: 0.5896000266075134\n",
      "\n"
     ]
    },
    {
     "name": "stderr",
     "output_type": "stream",
     "text": [
      "100%|██████████| 196/196 [02:04<00:00,  1.58it/s]\n",
      "100%|██████████| 49/49 [00:19<00:00,  2.56it/s]\n"
     ]
    },
    {
     "name": "stdout",
     "output_type": "stream",
     "text": [
      "Current Learning Rate: [0.005987369392383786]\n",
      "Epoch 12:\n",
      "Loss- Train Loss: 1.0300622081382722,\n",
      "Val Loss: 2.437805173339844,\n",
      "Train Accuracy: 0.6705736517906189,\n",
      "Val Accuracy: 0.4665600061416626\n",
      "\n"
     ]
    },
    {
     "name": "stderr",
     "output_type": "stream",
     "text": [
      "100%|██████████| 196/196 [02:21<00:00,  1.38it/s]\n",
      "100%|██████████| 49/49 [00:12<00:00,  3.98it/s]\n"
     ]
    },
    {
     "name": "stdout",
     "output_type": "stream",
     "text": [
      "Best Model Found\n",
      "Current Learning Rate: [0.005688000922764597]\n",
      "Epoch 13:\n",
      "Loss- Train Loss: 0.9886113035649298,\n",
      "Val Loss: 1.267363194580078,\n",
      "Train Accuracy: 0.6844547390937805,\n",
      "Val Accuracy: 0.608959972858429\n",
      "\n"
     ]
    },
    {
     "name": "stderr",
     "output_type": "stream",
     "text": [
      "100%|██████████| 196/196 [02:25<00:00,  1.35it/s]\n",
      "100%|██████████| 49/49 [00:11<00:00,  4.20it/s]\n"
     ]
    },
    {
     "name": "stdout",
     "output_type": "stream",
     "text": [
      "Current Learning Rate: [0.005403600876626367]\n",
      "Epoch 14:\n",
      "Loss- Train Loss: 0.9362626379800325,\n",
      "Val Loss: 1.41586134765625,\n",
      "Train Accuracy: 0.7004160284996033,\n",
      "Val Accuracy: 0.592960000038147\n",
      "\n"
     ]
    },
    {
     "name": "stderr",
     "output_type": "stream",
     "text": [
      "100%|██████████| 196/196 [02:12<00:00,  1.48it/s]\n",
      "100%|██████████| 49/49 [00:10<00:00,  4.69it/s]\n"
     ]
    },
    {
     "name": "stdout",
     "output_type": "stream",
     "text": [
      "Best Model Found\n",
      "Current Learning Rate: [0.005133420832795048]\n",
      "Epoch 15:\n",
      "Loss- Train Loss: 0.9003205334856964,\n",
      "Val Loss: 1.027263525390625,\n",
      "Train Accuracy: 0.7110368609428406,\n",
      "Val Accuracy: 0.6736000180244446\n",
      "\n"
     ]
    },
    {
     "name": "stderr",
     "output_type": "stream",
     "text": [
      "100%|██████████| 196/196 [02:22<00:00,  1.38it/s]\n",
      "100%|██████████| 49/49 [00:09<00:00,  5.12it/s]\n"
     ]
    },
    {
     "name": "stdout",
     "output_type": "stream",
     "text": [
      "Current Learning Rate: [0.0048767497911552955]\n",
      "Epoch 16:\n",
      "Loss- Train Loss: 0.8592746088205123,\n",
      "Val Loss: 1.248594510498047,\n",
      "Train Accuracy: 0.7269181609153748,\n",
      "Val Accuracy: 0.6662399768829346\n",
      "\n"
     ]
    },
    {
     "name": "stderr",
     "output_type": "stream",
     "text": [
      "100%|██████████| 196/196 [02:28<00:00,  1.32it/s]\n",
      "100%|██████████| 49/49 [00:11<00:00,  4.18it/s]\n"
     ]
    },
    {
     "name": "stdout",
     "output_type": "stream",
     "text": [
      "Best Model Found\n",
      "Current Learning Rate: [0.00463291230159753]\n",
      "Epoch 17:\n",
      "Loss- Train Loss: 0.8290729914887331,\n",
      "Val Loss: 0.8959873937988281,\n",
      "Train Accuracy: 0.7346587777137756,\n",
      "Val Accuracy: 0.7115200161933899\n",
      "\n"
     ]
    },
    {
     "name": "stderr",
     "output_type": "stream",
     "text": [
      "100%|██████████| 196/196 [02:31<00:00,  1.30it/s]\n",
      "100%|██████████| 49/49 [00:11<00:00,  4.11it/s]\n"
     ]
    },
    {
     "name": "stdout",
     "output_type": "stream",
     "text": [
      "Best Model Found\n",
      "Current Learning Rate: [0.0044012666865176535]\n",
      "Epoch 18:\n",
      "Loss- Train Loss: 0.7974607374717907,\n",
      "Val Loss: 0.78020638671875,\n",
      "Train Accuracy: 0.7474597692489624,\n",
      "Val Accuracy: 0.7513599991798401\n",
      "\n"
     ]
    },
    {
     "name": "stderr",
     "output_type": "stream",
     "text": [
      "100%|██████████| 196/196 [02:24<00:00,  1.36it/s]\n",
      "100%|██████████| 49/49 [00:12<00:00,  3.93it/s]\n"
     ]
    },
    {
     "name": "stdout",
     "output_type": "stream",
     "text": [
      "Current Learning Rate: [0.004181203352191771]\n",
      "Epoch 19:\n",
      "Loss- Train Loss: 0.777966698395442,\n",
      "Val Loss: 0.8410184680175782,\n",
      "Train Accuracy: 0.7519601583480835,\n",
      "Val Accuracy: 0.7388799786567688\n",
      "\n"
     ]
    },
    {
     "name": "stderr",
     "output_type": "stream",
     "text": [
      "100%|██████████| 196/196 [02:32<00:00,  1.29it/s]\n",
      "100%|██████████| 49/49 [00:14<00:00,  3.39it/s]\n"
     ]
    },
    {
     "name": "stdout",
     "output_type": "stream",
     "text": [
      "Best Model Found\n",
      "Current Learning Rate: [0.003972143184582182]\n",
      "Epoch 20:\n",
      "Loss- Train Loss: 0.7339427219942977,\n",
      "Val Loss: 0.7251514373779296,\n",
      "Train Accuracy: 0.768641471862793,\n",
      "Val Accuracy: 0.7804800271987915\n",
      "\n"
     ]
    },
    {
     "name": "stderr",
     "output_type": "stream",
     "text": [
      "100%|██████████| 196/196 [02:27<00:00,  1.33it/s]\n",
      "100%|██████████| 49/49 [00:10<00:00,  4.86it/s]\n"
     ]
    },
    {
     "name": "stdout",
     "output_type": "stream",
     "text": [
      "Current Learning Rate: [0.0037735360253530726]\n",
      "Epoch 21:\n",
      "Loss- Train Loss: 0.710122395118758,\n",
      "Val Loss: 0.878093076171875,\n",
      "Train Accuracy: 0.7737619280815125,\n",
      "Val Accuracy: 0.7396799921989441\n",
      "\n"
     ]
    },
    {
     "name": "stderr",
     "output_type": "stream",
     "text": [
      "100%|██████████| 196/196 [02:11<00:00,  1.50it/s]\n",
      "100%|██████████| 49/49 [00:10<00:00,  4.66it/s]\n"
     ]
    },
    {
     "name": "stdout",
     "output_type": "stream",
     "text": [
      "Best Model Found\n",
      "Current Learning Rate: [0.0035848592240854188]\n",
      "Epoch 22:\n",
      "Loss- Train Loss: 0.692217107791597,\n",
      "Val Loss: 0.6311342596435547,\n",
      "Train Accuracy: 0.7810424566268921,\n",
      "Val Accuracy: 0.8028799891471863\n",
      "\n"
     ]
    },
    {
     "name": "stderr",
     "output_type": "stream",
     "text": [
      "100%|██████████| 196/196 [02:31<00:00,  1.29it/s]\n",
      "100%|██████████| 49/49 [00:09<00:00,  4.91it/s]\n"
     ]
    },
    {
     "name": "stdout",
     "output_type": "stream",
     "text": [
      "Best Model Found\n",
      "Current Learning Rate: [0.0035490106318445645]\n",
      "Epoch 23:\n",
      "Loss- Train Loss: 0.6791342918334345,\n",
      "Val Loss: 0.6145082019042969,\n",
      "Train Accuracy: 0.7849227786064148,\n",
      "Val Accuracy: 0.8113600015640259\n",
      "\n"
     ]
    },
    {
     "name": "stderr",
     "output_type": "stream",
     "text": [
      "100%|██████████| 196/196 [02:16<00:00,  1.43it/s]\n",
      "100%|██████████| 49/49 [00:08<00:00,  5.57it/s]\n"
     ]
    },
    {
     "name": "stdout",
     "output_type": "stream",
     "text": [
      "Current Learning Rate: [0.0035135205255261187]\n",
      "Epoch 24:\n",
      "Loss- Train Loss: 0.6491651428977111,\n",
      "Val Loss: 0.671632958984375,\n",
      "Train Accuracy: 0.7963436841964722,\n",
      "Val Accuracy: 0.7934399843215942\n",
      "\n"
     ]
    },
    {
     "name": "stderr",
     "output_type": "stream",
     "text": [
      "100%|██████████| 196/196 [01:34<00:00,  2.07it/s]\n",
      "100%|██████████| 49/49 [00:06<00:00,  7.88it/s]\n"
     ]
    },
    {
     "name": "stdout",
     "output_type": "stream",
     "text": [
      "Current Learning Rate: [0.0034783853202708576]\n",
      "Epoch 25:\n",
      "Loss- Train Loss: 0.633685254833204,\n",
      "Val Loss: 0.7729313018798828,\n",
      "Train Accuracy: 0.801344096660614,\n",
      "Val Accuracy: 0.7579200267791748\n",
      "\n"
     ]
    },
    {
     "name": "stderr",
     "output_type": "stream",
     "text": [
      "100%|██████████| 196/196 [01:40<00:00,  1.94it/s]\n",
      "100%|██████████| 49/49 [00:09<00:00,  5.07it/s]\n"
     ]
    },
    {
     "name": "stdout",
     "output_type": "stream",
     "text": [
      "Current Learning Rate: [0.003443601467068149]\n",
      "Epoch 26:\n",
      "Loss- Train Loss: 0.6284523529857242,\n",
      "Val Loss: 0.7141591278076171,\n",
      "Train Accuracy: 0.8006840348243713,\n",
      "Val Accuracy: 0.7820799946784973\n",
      "\n"
     ]
    },
    {
     "name": "stderr",
     "output_type": "stream",
     "text": [
      "100%|██████████| 196/196 [01:51<00:00,  1.76it/s]\n",
      "100%|██████████| 49/49 [00:08<00:00,  5.68it/s]\n"
     ]
    },
    {
     "name": "stdout",
     "output_type": "stream",
     "text": [
      "Current Learning Rate: [0.0034091654523974676]\n",
      "Epoch 27:\n",
      "Loss- Train Loss: 0.6072681677876516,\n",
      "Val Loss: 0.6965854309082031,\n",
      "Train Accuracy: 0.8073245882987976,\n",
      "Val Accuracy: 0.7852799892425537\n",
      "\n"
     ]
    },
    {
     "name": "stderr",
     "output_type": "stream",
     "text": [
      "100%|██████████| 196/196 [01:46<00:00,  1.85it/s]\n",
      "100%|██████████| 49/49 [00:07<00:00,  6.14it/s]\n"
     ]
    },
    {
     "name": "stdout",
     "output_type": "stream",
     "text": [
      "Current Learning Rate: [0.003375073797873493]\n",
      "Epoch 28:\n",
      "Loss- Train Loss: 0.5925507648094758,\n",
      "Val Loss: 0.7464616723632812,\n",
      "Train Accuracy: 0.813585102558136,\n",
      "Val Accuracy: 0.76528000831604\n",
      "\n"
     ]
    },
    {
     "name": "stderr",
     "output_type": "stream",
     "text": [
      "100%|██████████| 196/196 [01:44<00:00,  1.87it/s]\n",
      "100%|██████████| 49/49 [00:08<00:00,  5.95it/s]\n"
     ]
    },
    {
     "name": "stdout",
     "output_type": "stream",
     "text": [
      "Best Model Found\n",
      "Current Learning Rate: [0.003341323059894758]\n",
      "Epoch 29:\n",
      "Loss- Train Loss: 0.5727341953530599,\n",
      "Val Loss: 0.6009997283935546,\n",
      "Train Accuracy: 0.8196855783462524,\n",
      "Val Accuracy: 0.8180800080299377\n",
      "\n"
     ]
    },
    {
     "name": "stderr",
     "output_type": "stream",
     "text": [
      "100%|██████████| 196/196 [01:34<00:00,  2.07it/s]\n",
      "100%|██████████| 49/49 [00:06<00:00,  7.29it/s]\n"
     ]
    },
    {
     "name": "stdout",
     "output_type": "stream",
     "text": [
      "Current Learning Rate: [0.0033079098292958108]\n",
      "Epoch 30:\n",
      "Loss- Train Loss: 0.5744750498008591,\n",
      "Val Loss: 0.7117372814941406,\n",
      "Train Accuracy: 0.8174654245376587,\n",
      "Val Accuracy: 0.7777600288391113\n",
      "\n"
     ]
    },
    {
     "name": "stderr",
     "output_type": "stream",
     "text": [
      "100%|██████████| 196/196 [01:40<00:00,  1.96it/s]\n",
      "100%|██████████| 49/49 [00:08<00:00,  6.02it/s]\n"
     ]
    },
    {
     "name": "stdout",
     "output_type": "stream",
     "text": [
      "Current Learning Rate: [0.0032748307310028527]\n",
      "Epoch 31:\n",
      "Loss- Train Loss: 0.563814824042735,\n",
      "Val Loss: 0.8236581994628907,\n",
      "Train Accuracy: 0.820945680141449,\n",
      "Val Accuracy: 0.748960018157959\n",
      "\n"
     ]
    },
    {
     "name": "stderr",
     "output_type": "stream",
     "text": [
      "100%|██████████| 196/196 [01:45<00:00,  1.86it/s]\n",
      "100%|██████████| 49/49 [00:09<00:00,  5.37it/s]\n"
     ]
    },
    {
     "name": "stdout",
     "output_type": "stream",
     "text": [
      "Current Learning Rate: [0.003242082423692824]\n",
      "Epoch 32:\n",
      "Loss- Train Loss: 0.5425148336818117,\n",
      "Val Loss: 0.6682453314208985,\n",
      "Train Accuracy: 0.8296263813972473,\n",
      "Val Accuracy: 0.8047999739646912\n",
      "\n"
     ]
    },
    {
     "name": "stderr",
     "output_type": "stream",
     "text": [
      "100%|██████████| 196/196 [01:53<00:00,  1.73it/s]\n",
      "100%|██████████| 49/49 [00:12<00:00,  4.00it/s]\n"
     ]
    },
    {
     "name": "stdout",
     "output_type": "stream",
     "text": [
      "Current Learning Rate: [0.003209661599455896]\n",
      "Epoch 33:\n",
      "Loss- Train Loss: 0.5233810636003224,\n",
      "Val Loss: 0.6760726733398438,\n",
      "Train Accuracy: 0.8353268504142761,\n",
      "Val Accuracy: 0.7968000173568726\n",
      "\n"
     ]
    },
    {
     "name": "stderr",
     "output_type": "stream",
     "text": [
      "100%|██████████| 196/196 [02:00<00:00,  1.62it/s]\n",
      "100%|██████████| 49/49 [00:09<00:00,  5.32it/s]\n"
     ]
    },
    {
     "name": "stdout",
     "output_type": "stream",
     "text": [
      "Current Learning Rate: [0.003177564983461337]\n",
      "Epoch 34:\n",
      "Loss- Train Loss: 0.5360415062147843,\n",
      "Val Loss: 1.020308076171875,\n",
      "Train Accuracy: 0.8297063708305359,\n",
      "Val Accuracy: 0.751039981842041\n",
      "\n"
     ]
    },
    {
     "name": "stderr",
     "output_type": "stream",
     "text": [
      "100%|██████████| 196/196 [02:10<00:00,  1.50it/s]\n",
      "100%|██████████| 49/49 [00:08<00:00,  5.74it/s]\n"
     ]
    },
    {
     "name": "stdout",
     "output_type": "stream",
     "text": [
      "Current Learning Rate: [0.0031457893336267234]\n",
      "Epoch 35:\n",
      "Loss- Train Loss: 0.4993094686832759,\n",
      "Val Loss: 0.6212719323730469,\n",
      "Train Accuracy: 0.8408272862434387,\n",
      "Val Accuracy: 0.8113600015640259\n",
      "\n"
     ]
    },
    {
     "name": "stderr",
     "output_type": "stream",
     "text": [
      "100%|██████████| 196/196 [02:01<00:00,  1.61it/s]\n",
      "100%|██████████| 49/49 [00:09<00:00,  5.23it/s]\n"
     ]
    },
    {
     "name": "stdout",
     "output_type": "stream",
     "text": [
      "Current Learning Rate: [0.003114331440290456]\n",
      "Epoch 36:\n",
      "Loss- Train Loss: 0.4855958045277655,\n",
      "Val Loss: 0.5862590924072265,\n",
      "Train Accuracy: 0.8481078743934631,\n",
      "Val Accuracy: 0.8054400086402893\n",
      "\n"
     ]
    },
    {
     "name": "stderr",
     "output_type": "stream",
     "text": [
      "100%|██████████| 196/196 [02:05<00:00,  1.56it/s]\n",
      "100%|██████████| 49/49 [00:10<00:00,  4.55it/s]\n"
     ]
    },
    {
     "name": "stdout",
     "output_type": "stream",
     "text": [
      "Best Model Found\n",
      "Current Learning Rate: [0.0030831881258875514]\n",
      "Epoch 37:\n",
      "Loss- Train Loss: 0.48618084171770365,\n",
      "Val Loss: 0.5182716412353515,\n",
      "Train Accuracy: 0.8465477228164673,\n",
      "Val Accuracy: 0.8412799835205078\n",
      "\n"
     ]
    },
    {
     "name": "stderr",
     "output_type": "stream",
     "text": [
      "100%|██████████| 196/196 [02:04<00:00,  1.57it/s]\n",
      "100%|██████████| 49/49 [00:10<00:00,  4.81it/s]\n"
     ]
    },
    {
     "name": "stdout",
     "output_type": "stream",
     "text": [
      "Current Learning Rate: [0.003052356244628676]\n",
      "Epoch 38:\n",
      "Loss- Train Loss: 0.47799158908909,\n",
      "Val Loss: 0.5967708026123046,\n",
      "Train Accuracy: 0.8478278517723083,\n",
      "Val Accuracy: 0.8182399868965149\n",
      "\n"
     ]
    },
    {
     "name": "stderr",
     "output_type": "stream",
     "text": [
      "100%|██████████| 196/196 [02:10<00:00,  1.50it/s]\n",
      "100%|██████████| 49/49 [00:10<00:00,  4.46it/s]\n"
     ]
    },
    {
     "name": "stdout",
     "output_type": "stream",
     "text": [
      "Current Learning Rate: [0.003021832682182389]\n",
      "Epoch 39:\n",
      "Loss- Train Loss: 0.48253947405331,\n",
      "Val Loss: 0.6736244830322266,\n",
      "Train Accuracy: 0.8477078080177307,\n",
      "Val Accuracy: 0.7900800108909607\n",
      "\n"
     ]
    },
    {
     "name": "stderr",
     "output_type": "stream",
     "text": [
      "100%|██████████| 196/196 [02:11<00:00,  1.49it/s]\n",
      "100%|██████████| 49/49 [00:09<00:00,  5.43it/s]\n"
     ]
    },
    {
     "name": "stdout",
     "output_type": "stream",
     "text": [
      "Best Model Found\n",
      "Current Learning Rate: [0.0029916143553605653]\n",
      "Epoch 40:\n",
      "Loss- Train Loss: 0.45597589114197007,\n",
      "Val Loss: 0.4032903338623047,\n",
      "Train Accuracy: 0.8567085266113281,\n",
      "Val Accuracy: 0.8855999708175659\n",
      "\n"
     ]
    },
    {
     "name": "stderr",
     "output_type": "stream",
     "text": [
      "100%|██████████| 196/196 [02:13<00:00,  1.47it/s]\n",
      "100%|██████████| 49/49 [00:10<00:00,  4.88it/s]\n"
     ]
    },
    {
     "name": "stdout",
     "output_type": "stream",
     "text": [
      "Current Learning Rate: [0.0029616982118069596]\n",
      "Epoch 41:\n",
      "Loss- Train Loss: 0.45218023768195403,\n",
      "Val Loss: 0.5752400915527344,\n",
      "Train Accuracy: 0.8582486510276794,\n",
      "Val Accuracy: 0.8212800025939941\n",
      "\n"
     ]
    },
    {
     "name": "stderr",
     "output_type": "stream",
     "text": [
      "100%|██████████| 196/196 [02:09<00:00,  1.51it/s]\n",
      "100%|██████████| 49/49 [00:10<00:00,  4.77it/s]\n"
     ]
    },
    {
     "name": "stdout",
     "output_type": "stream",
     "text": [
      "Current Learning Rate: [0.00293208122968889]\n",
      "Epoch 42:\n",
      "Loss- Train Loss: 0.4399415617495005,\n",
      "Val Loss: 0.49174352783203124,\n",
      "Train Accuracy: 0.8620489835739136,\n",
      "Val Accuracy: 0.8548799753189087\n",
      "\n"
     ]
    },
    {
     "name": "stderr",
     "output_type": "stream",
     "text": [
      "100%|██████████| 196/196 [02:08<00:00,  1.53it/s]\n",
      "100%|██████████| 49/49 [00:09<00:00,  5.00it/s]\n"
     ]
    },
    {
     "name": "stdout",
     "output_type": "stream",
     "text": [
      "Current Learning Rate: [0.002902760417392001]\n",
      "Epoch 43:\n",
      "Loss- Train Loss: 0.43978758557947817,\n",
      "Val Loss: 0.43892161560058596,\n",
      "Train Accuracy: 0.8617289662361145,\n",
      "Val Accuracy: 0.869920015335083\n",
      "\n"
     ]
    },
    {
     "name": "stderr",
     "output_type": "stream",
     "text": [
      "100%|██████████| 196/196 [02:07<00:00,  1.53it/s]\n",
      "100%|██████████| 49/49 [00:09<00:00,  5.22it/s]\n"
     ]
    },
    {
     "name": "stdout",
     "output_type": "stream",
     "text": [
      "Current Learning Rate: [0.002873732813218081]\n",
      "Epoch 44:\n",
      "Loss- Train Loss: 0.4197383149355562,\n",
      "Val Loss: 0.43848074920654295,\n",
      "Train Accuracy: 0.8700096011161804,\n",
      "Val Accuracy: 0.8672000169754028\n",
      "\n"
     ]
    },
    {
     "name": "stderr",
     "output_type": "stream",
     "text": [
      "100%|██████████| 196/196 [01:59<00:00,  1.64it/s]\n",
      "100%|██████████| 49/49 [00:11<00:00,  4.26it/s]\n"
     ]
    },
    {
     "name": "stdout",
     "output_type": "stream",
     "text": [
      "Current Learning Rate: [0.0028449954850859]\n",
      "Epoch 45:\n",
      "Loss- Train Loss: 0.4137668859120302,\n",
      "Val Loss: 0.4915217901611328,\n",
      "Train Accuracy: 0.870789647102356,\n",
      "Val Accuracy: 0.8492799997329712\n",
      "\n"
     ]
    },
    {
     "name": "stderr",
     "output_type": "stream",
     "text": [
      "100%|██████████| 196/196 [01:55<00:00,  1.69it/s]\n",
      "100%|██████████| 49/49 [00:09<00:00,  4.94it/s]\n"
     ]
    },
    {
     "name": "stdout",
     "output_type": "stream",
     "text": [
      "Current Learning Rate: [0.002816545530235041]\n",
      "Epoch 46:\n",
      "Loss- Train Loss: 0.40829851272745377,\n",
      "Val Loss: 0.6456801782226562,\n",
      "Train Accuracy: 0.8719297647476196,\n",
      "Val Accuracy: 0.8055999875068665\n",
      "\n"
     ]
    },
    {
     "name": "stderr",
     "output_type": "stream",
     "text": [
      "100%|██████████| 196/196 [02:37<00:00,  1.24it/s]\n",
      "100%|██████████| 49/49 [00:09<00:00,  4.98it/s]\n"
     ]
    },
    {
     "name": "stdout",
     "output_type": "stream",
     "text": [
      "Current Learning Rate: [0.0027883800749326903]\n",
      "Epoch 47:\n",
      "Loss- Train Loss: 0.39537640504526494,\n",
      "Val Loss: 0.4272441470336914,\n",
      "Train Accuracy: 0.8755500316619873,\n",
      "Val Accuracy: 0.8715199828147888\n",
      "\n"
     ]
    },
    {
     "name": "stderr",
     "output_type": "stream",
     "text": [
      "100%|██████████| 196/196 [02:09<00:00,  1.52it/s]\n",
      "100%|██████████| 49/49 [00:11<00:00,  4.32it/s]\n"
     ]
    },
    {
     "name": "stdout",
     "output_type": "stream",
     "text": [
      "Current Learning Rate: [0.0027604962741833634]\n",
      "Epoch 48:\n",
      "Loss- Train Loss: 0.3958107642874125,\n",
      "Val Loss: 0.4278043142700195,\n",
      "Train Accuracy: 0.8747699856758118,\n",
      "Val Accuracy: 0.8652799725532532\n",
      "\n"
     ]
    },
    {
     "name": "stderr",
     "output_type": "stream",
     "text": [
      "100%|██████████| 196/196 [01:56<00:00,  1.69it/s]\n",
      "100%|██████████| 49/49 [00:09<00:00,  5.32it/s]\n"
     ]
    },
    {
     "name": "stdout",
     "output_type": "stream",
     "text": [
      "Current Learning Rate: [0.0027328913114415296]\n",
      "Epoch 49:\n",
      "Loss- Train Loss: 0.3813526036977978,\n",
      "Val Loss: 0.41768207244873046,\n",
      "Train Accuracy: 0.8820105791091919,\n",
      "Val Accuracy: 0.8804799914360046\n",
      "\n"
     ]
    },
    {
     "name": "stderr",
     "output_type": "stream",
     "text": [
      "100%|██████████| 196/196 [02:05<00:00,  1.56it/s]\n",
      "100%|██████████| 49/49 [00:09<00:00,  5.27it/s]\n"
     ]
    },
    {
     "name": "stdout",
     "output_type": "stream",
     "text": [
      "Best Model Found\n",
      "Current Learning Rate: [0.0027055623983271142]\n",
      "Epoch 50:\n",
      "Loss- Train Loss: 0.3925894951570491,\n",
      "Val Loss: 0.35356184967041016,\n",
      "Train Accuracy: 0.8782302737236023,\n",
      "Val Accuracy: 0.8931199908256531\n",
      "\n"
     ]
    },
    {
     "name": "stderr",
     "output_type": "stream",
     "text": [
      "100%|██████████| 196/196 [02:08<00:00,  1.52it/s]\n",
      "100%|██████████| 49/49 [00:10<00:00,  4.68it/s]\n"
     ]
    },
    {
     "name": "stdout",
     "output_type": "stream",
     "text": [
      "Current Learning Rate: [0.002678506774343843]\n",
      "Epoch 51:\n",
      "Loss- Train Loss: 0.37579689999467536,\n",
      "Val Loss: 0.4020134808349609,\n",
      "Train Accuracy: 0.8832906484603882,\n",
      "Val Accuracy: 0.8876799941062927\n",
      "\n"
     ]
    },
    {
     "name": "stderr",
     "output_type": "stream",
     "text": [
      "100%|██████████| 196/196 [02:02<00:00,  1.60it/s]\n",
      "100%|██████████| 49/49 [00:08<00:00,  5.63it/s]\n"
     ]
    },
    {
     "name": "stdout",
     "output_type": "stream",
     "text": [
      "Current Learning Rate: [0.0026517217066004046]\n",
      "Epoch 52:\n",
      "Loss- Train Loss: 0.3680606452605564,\n",
      "Val Loss: 0.42959546783447267,\n",
      "Train Accuracy: 0.8851908445358276,\n",
      "Val Accuracy: 0.872160017490387\n",
      "\n"
     ]
    },
    {
     "name": "stderr",
     "output_type": "stream",
     "text": [
      "100%|██████████| 196/196 [01:56<00:00,  1.68it/s]\n",
      "100%|██████████| 49/49 [00:10<00:00,  4.53it/s]\n"
     ]
    },
    {
     "name": "stdout",
     "output_type": "stream",
     "text": [
      "Current Learning Rate: [0.0026252044895344003]\n",
      "Epoch 53:\n",
      "Loss- Train Loss: 0.3620985677236747,\n",
      "Val Loss: 0.44917599060058594,\n",
      "Train Accuracy: 0.8853908181190491,\n",
      "Val Accuracy: 0.8654400110244751\n",
      "\n"
     ]
    },
    {
     "name": "stderr",
     "output_type": "stream",
     "text": [
      "100%|██████████| 196/196 [02:04<00:00,  1.58it/s]\n",
      "100%|██████████| 49/49 [00:09<00:00,  4.91it/s]\n"
     ]
    },
    {
     "name": "stdout",
     "output_type": "stream",
     "text": [
      "Best Model Found\n",
      "Current Learning Rate: [0.0025989524446390563]\n",
      "Epoch 54:\n",
      "Loss- Train Loss: 0.35579882691274484,\n",
      "Val Loss: 0.3532329037475586,\n",
      "Train Accuracy: 0.8886510729789734,\n",
      "Val Accuracy: 0.9014400243759155\n",
      "\n"
     ]
    },
    {
     "name": "stderr",
     "output_type": "stream",
     "text": [
      "100%|██████████| 196/196 [02:05<00:00,  1.56it/s]\n",
      "100%|██████████| 49/49 [00:11<00:00,  4.27it/s]\n"
     ]
    },
    {
     "name": "stdout",
     "output_type": "stream",
     "text": [
      "Current Learning Rate: [0.002572962920192666]\n",
      "Epoch 55:\n",
      "Loss- Train Loss: 0.35434984105979456,\n",
      "Val Loss: 0.4904924230957031,\n",
      "Train Accuracy: 0.8899511694908142,\n",
      "Val Accuracy: 0.8548799753189087\n",
      "\n"
     ]
    },
    {
     "name": "stderr",
     "output_type": "stream",
     "text": [
      "100%|██████████| 196/196 [01:54<00:00,  1.72it/s]\n",
      "100%|██████████| 49/49 [00:16<00:00,  3.00it/s]\n"
     ]
    },
    {
     "name": "stdout",
     "output_type": "stream",
     "text": [
      "Current Learning Rate: [0.002547233290990739]\n",
      "Epoch 56:\n",
      "Loss- Train Loss: 0.35046267637263034,\n",
      "Val Loss: 0.44578423156738284,\n",
      "Train Accuracy: 0.8905512690544128,\n",
      "Val Accuracy: 0.8695999979972839\n",
      "\n"
     ]
    },
    {
     "name": "stderr",
     "output_type": "stream",
     "text": [
      "100%|██████████| 196/196 [01:38<00:00,  1.99it/s]\n",
      "100%|██████████| 49/49 [00:10<00:00,  4.50it/s]\n"
     ]
    },
    {
     "name": "stdout",
     "output_type": "stream",
     "text": [
      "Current Learning Rate: [0.0025217609580808317]\n",
      "Epoch 57:\n",
      "Loss- Train Loss: 0.33875769639513054,\n",
      "Val Loss: 0.3646233670043945,\n",
      "Train Accuracy: 0.8956716656684875,\n",
      "Val Accuracy: 0.8952000141143799\n",
      "\n"
     ]
    },
    {
     "name": "stderr",
     "output_type": "stream",
     "text": [
      "100%|██████████| 196/196 [02:02<00:00,  1.61it/s]\n",
      "100%|██████████| 49/49 [00:08<00:00,  6.04it/s]\n"
     ]
    },
    {
     "name": "stdout",
     "output_type": "stream",
     "text": [
      "Best Model Found\n",
      "Current Learning Rate: [0.0024965433485000235]\n",
      "Epoch 58:\n",
      "Loss- Train Loss: 0.3422639681841051,\n",
      "Val Loss: 0.3514865167236328,\n",
      "Train Accuracy: 0.89313143491745,\n",
      "Val Accuracy: 0.9049599766731262\n",
      "\n"
     ]
    },
    {
     "name": "stderr",
     "output_type": "stream",
     "text": [
      "100%|██████████| 196/196 [02:02<00:00,  1.59it/s]\n",
      "100%|██████████| 49/49 [00:09<00:00,  4.99it/s]\n"
     ]
    },
    {
     "name": "stdout",
     "output_type": "stream",
     "text": [
      "Current Learning Rate: [0.0024715779150150234]\n",
      "Epoch 59:\n",
      "Loss- Train Loss: 0.33630807301131943,\n",
      "Val Loss: 0.738810396118164,\n",
      "Train Accuracy: 0.896131694316864,\n",
      "Val Accuracy: 0.7891200184822083\n",
      "\n"
     ]
    },
    {
     "name": "stderr",
     "output_type": "stream",
     "text": [
      "100%|██████████| 196/196 [02:03<00:00,  1.58it/s]\n",
      "100%|██████████| 49/49 [00:09<00:00,  4.94it/s]\n"
     ]
    },
    {
     "name": "stdout",
     "output_type": "stream",
     "text": [
      "Current Learning Rate: [0.002446862135864873]\n",
      "Epoch 60:\n",
      "Loss- Train Loss: 0.3263097920315925,\n",
      "Val Loss: 0.39106124450683594,\n",
      "Train Accuracy: 0.8987919092178345,\n",
      "Val Accuracy: 0.8865600228309631\n",
      "\n"
     ]
    },
    {
     "name": "stderr",
     "output_type": "stream",
     "text": [
      "100%|██████████| 196/196 [02:04<00:00,  1.57it/s]\n",
      "100%|██████████| 49/49 [00:09<00:00,  5.14it/s]\n"
     ]
    },
    {
     "name": "stdout",
     "output_type": "stream",
     "text": [
      "Current Learning Rate: [0.002422393514506224]\n",
      "Epoch 61:\n",
      "Loss- Train Loss: 0.3205306899100268,\n",
      "Val Loss: 0.4431734945678711,\n",
      "Train Accuracy: 0.9002920389175415,\n",
      "Val Accuracy: 0.8707200288772583\n",
      "\n"
     ]
    },
    {
     "name": "stderr",
     "output_type": "stream",
     "text": [
      "100%|██████████| 196/196 [03:06<00:00,  1.05it/s]\n",
      "100%|██████████| 49/49 [00:04<00:00, 10.08it/s]\n"
     ]
    },
    {
     "name": "stdout",
     "output_type": "stream",
     "text": [
      "Current Learning Rate: [0.002398169579361162]\n",
      "Epoch 62:\n",
      "Loss- Train Loss: 0.31764899300464544,\n",
      "Val Loss: 0.3809962664794922,\n",
      "Train Accuracy: 0.9001920223236084,\n",
      "Val Accuracy: 0.8952000141143799\n",
      "\n"
     ]
    },
    {
     "name": "stderr",
     "output_type": "stream",
     "text": [
      "100%|██████████| 196/196 [00:55<00:00,  3.54it/s]\n",
      "100%|██████████| 49/49 [00:04<00:00, 11.63it/s]\n"
     ]
    },
    {
     "name": "stdout",
     "output_type": "stream",
     "text": [
      "Current Learning Rate: [0.00237418788356755]\n",
      "Epoch 63:\n",
      "Loss- Train Loss: 0.31386296246869916,\n",
      "Val Loss: 0.6310540942382813,\n",
      "Train Accuracy: 0.9028122425079346,\n",
      "Val Accuracy: 0.8193600177764893\n",
      "\n"
     ]
    },
    {
     "name": "stderr",
     "output_type": "stream",
     "text": [
      "100%|██████████| 196/196 [00:53<00:00,  3.69it/s]\n",
      "100%|██████████| 49/49 [00:04<00:00, 11.25it/s]\n"
     ]
    },
    {
     "name": "stdout",
     "output_type": "stream",
     "text": [
      "Current Learning Rate: [0.0023504460047318746]\n",
      "Epoch 64:\n",
      "Loss- Train Loss: 0.3232753362853257,\n",
      "Val Loss: 0.3542519888305664,\n",
      "Train Accuracy: 0.897851824760437,\n",
      "Val Accuracy: 0.8948799967765808\n",
      "\n"
     ]
    },
    {
     "name": "stderr",
     "output_type": "stream",
     "text": [
      "100%|██████████| 196/196 [00:52<00:00,  3.71it/s]\n",
      "100%|██████████| 49/49 [00:04<00:00, 11.06it/s]\n"
     ]
    },
    {
     "name": "stdout",
     "output_type": "stream",
     "text": [
      "Best Model Found\n",
      "Current Learning Rate: [0.0023269415446845556]\n",
      "Epoch 65:\n",
      "Loss- Train Loss: 0.31011180303909175,\n",
      "Val Loss: 0.3115751773071289,\n",
      "Train Accuracy: 0.903712272644043,\n",
      "Val Accuracy: 0.9116799831390381\n",
      "\n"
     ]
    },
    {
     "name": "stderr",
     "output_type": "stream",
     "text": [
      "100%|██████████| 196/196 [00:53<00:00,  3.64it/s]\n",
      "100%|██████████| 49/49 [00:04<00:00, 11.60it/s]\n"
     ]
    },
    {
     "name": "stdout",
     "output_type": "stream",
     "text": [
      "Current Learning Rate: [0.00230367212923771]\n",
      "Epoch 66:\n",
      "Loss- Train Loss: 0.3082267372252817,\n",
      "Val Loss: 0.33731098541259763,\n",
      "Train Accuracy: 0.9043323397636414,\n",
      "Val Accuracy: 0.9043200016021729\n",
      "\n"
     ]
    },
    {
     "name": "stderr",
     "output_type": "stream",
     "text": [
      "100%|██████████| 196/196 [00:52<00:00,  3.73it/s]\n",
      "100%|██████████| 49/49 [00:04<00:00, 11.34it/s]\n"
     ]
    },
    {
     "name": "stdout",
     "output_type": "stream",
     "text": [
      "Current Learning Rate: [0.002280635407945333]\n",
      "Epoch 67:\n",
      "Loss- Train Loss: 0.29769611614247743,\n",
      "Val Loss: 0.3240605920410156,\n",
      "Train Accuracy: 0.9075525999069214,\n",
      "Val Accuracy: 0.9107199907302856\n",
      "\n"
     ]
    },
    {
     "name": "stderr",
     "output_type": "stream",
     "text": [
      "100%|██████████| 196/196 [00:56<00:00,  3.47it/s]\n",
      "100%|██████████| 49/49 [00:04<00:00, 10.14it/s]\n"
     ]
    },
    {
     "name": "stdout",
     "output_type": "stream",
     "text": [
      "Current Learning Rate: [0.0022578290538658795]\n",
      "Epoch 68:\n",
      "Loss- Train Loss: 0.29001909416669347,\n",
      "Val Loss: 0.3802545034790039,\n",
      "Train Accuracy: 0.9099528193473816,\n",
      "Val Accuracy: 0.8937600255012512\n",
      "\n"
     ]
    },
    {
     "name": "stderr",
     "output_type": "stream",
     "text": [
      "100%|██████████| 196/196 [00:56<00:00,  3.45it/s]\n",
      "100%|██████████| 49/49 [00:04<00:00, 10.82it/s]\n"
     ]
    },
    {
     "name": "stdout",
     "output_type": "stream",
     "text": [
      "Current Learning Rate: [0.0022352507633272207]\n",
      "Epoch 69:\n",
      "Loss- Train Loss: 0.2821023461341629,\n",
      "Val Loss: 0.35718533966064453,\n",
      "Train Accuracy: 0.9143731594085693,\n",
      "Val Accuracy: 0.893280029296875\n",
      "\n"
     ]
    },
    {
     "name": "stderr",
     "output_type": "stream",
     "text": [
      "100%|██████████| 196/196 [00:55<00:00,  3.53it/s]\n",
      "100%|██████████| 49/49 [00:04<00:00, 11.46it/s]\n"
     ]
    },
    {
     "name": "stdout",
     "output_type": "stream",
     "text": [
      "Current Learning Rate: [0.0022128982556939487]\n",
      "Epoch 70:\n",
      "Loss- Train Loss: 0.2788024054345002,\n",
      "Val Loss: 0.3393341683959961,\n",
      "Train Accuracy: 0.9143731594085693,\n",
      "Val Accuracy: 0.8977599740028381\n",
      "\n"
     ]
    },
    {
     "name": "stderr",
     "output_type": "stream",
     "text": [
      "100%|██████████| 196/196 [00:55<00:00,  3.51it/s]\n",
      "100%|██████████| 49/49 [00:04<00:00, 10.68it/s]\n"
     ]
    },
    {
     "name": "stdout",
     "output_type": "stream",
     "text": [
      "Best Model Found\n",
      "Current Learning Rate: [0.002190769273137009]\n",
      "Epoch 71:\n",
      "Loss- Train Loss: 0.2923303490133703,\n",
      "Val Loss: 0.3032618505859375,\n",
      "Train Accuracy: 0.9090527296066284,\n",
      "Val Accuracy: 0.9223999977111816\n",
      "\n"
     ]
    },
    {
     "name": "stderr",
     "output_type": "stream",
     "text": [
      "100%|██████████| 196/196 [00:55<00:00,  3.51it/s]\n",
      "100%|██████████| 49/49 [00:04<00:00, 10.36it/s]\n"
     ]
    },
    {
     "name": "stdout",
     "output_type": "stream",
     "text": [
      "Current Learning Rate: [0.002168861580405639]\n",
      "Epoch 72:\n",
      "Loss- Train Loss: 0.27695026591507205,\n",
      "Val Loss: 0.2900521270751953,\n",
      "Train Accuracy: 0.9132330417633057,\n",
      "Val Accuracy: 0.9200000166893005\n",
      "\n"
     ]
    },
    {
     "name": "stderr",
     "output_type": "stream",
     "text": [
      "100%|██████████| 196/196 [01:00<00:00,  3.24it/s]\n",
      "100%|██████████| 49/49 [00:04<00:00, 10.48it/s]\n"
     ]
    },
    {
     "name": "stdout",
     "output_type": "stream",
     "text": [
      "Current Learning Rate: [0.0021471729646015828]\n",
      "Epoch 73:\n",
      "Loss- Train Loss: 0.27471057574590096,\n",
      "Val Loss: 0.34567739440917966,\n",
      "Train Accuracy: 0.9145331382751465,\n",
      "Val Accuracy: 0.8952000141143799\n",
      "\n"
     ]
    },
    {
     "name": "stderr",
     "output_type": "stream",
     "text": [
      "100%|██████████| 196/196 [00:56<00:00,  3.44it/s]\n",
      "100%|██████████| 49/49 [00:03<00:00, 12.35it/s]\n"
     ]
    },
    {
     "name": "stdout",
     "output_type": "stream",
     "text": [
      "Current Learning Rate: [0.002125701234955567]\n",
      "Epoch 74:\n",
      "Loss- Train Loss: 0.26821432488280705,\n",
      "Val Loss: 0.44671238220214843,\n",
      "Train Accuracy: 0.9166933298110962,\n",
      "Val Accuracy: 0.8831999897956848\n",
      "\n"
     ]
    },
    {
     "name": "stderr",
     "output_type": "stream",
     "text": [
      "100%|██████████| 196/196 [00:56<00:00,  3.46it/s]\n",
      "100%|██████████| 49/49 [00:04<00:00, 10.57it/s]\n"
     ]
    },
    {
     "name": "stdout",
     "output_type": "stream",
     "text": [
      "Current Learning Rate: [0.0021044442226060113]\n",
      "Epoch 75:\n",
      "Loss- Train Loss: 0.26967897414398134,\n",
      "Val Loss: 0.3618617636108398,\n",
      "Train Accuracy: 0.9163132905960083,\n",
      "Val Accuracy: 0.8944000005722046\n",
      "\n"
     ]
    },
    {
     "name": "stderr",
     "output_type": "stream",
     "text": [
      "100%|██████████| 196/196 [00:55<00:00,  3.50it/s]\n",
      "100%|██████████| 49/49 [00:04<00:00, 11.34it/s]\n"
     ]
    },
    {
     "name": "stdout",
     "output_type": "stream",
     "text": [
      "Current Learning Rate: [0.0020833997803799513]\n",
      "Epoch 76:\n",
      "Loss- Train Loss: 0.2643250803325985,\n",
      "Val Loss: 0.36640832153320313,\n",
      "Train Accuracy: 0.9191935062408447,\n",
      "Val Accuracy: 0.8876799941062927\n",
      "\n"
     ]
    },
    {
     "name": "stderr",
     "output_type": "stream",
     "text": [
      "100%|██████████| 196/196 [00:56<00:00,  3.47it/s]\n",
      "100%|██████████| 49/49 [00:04<00:00, 10.92it/s]\n"
     ]
    },
    {
     "name": "stdout",
     "output_type": "stream",
     "text": [
      "Current Learning Rate: [0.0020625657825761516]\n",
      "Epoch 77:\n",
      "Loss- Train Loss: 0.2634756317309584,\n",
      "Val Loss: 0.3204252639770508,\n",
      "Train Accuracy: 0.9186334609985352,\n",
      "Val Accuracy: 0.9064000248908997\n",
      "\n"
     ]
    },
    {
     "name": "stderr",
     "output_type": "stream",
     "text": [
      "100%|██████████| 196/196 [00:56<00:00,  3.45it/s]\n",
      "100%|██████████| 49/49 [00:04<00:00, 11.28it/s]\n"
     ]
    },
    {
     "name": "stdout",
     "output_type": "stream",
     "text": [
      "Best Model Found\n",
      "Current Learning Rate: [0.00204194012475039]\n",
      "Epoch 78:\n",
      "Loss- Train Loss: 0.2579784686302736,\n",
      "Val Loss: 0.28102799560546876,\n",
      "Train Accuracy: 0.9214137196540833,\n",
      "Val Accuracy: 0.9257599711418152\n",
      "\n"
     ]
    },
    {
     "name": "stderr",
     "output_type": "stream",
     "text": [
      "100%|██████████| 196/196 [00:55<00:00,  3.53it/s]\n",
      "100%|██████████| 49/49 [00:04<00:00, 11.67it/s]\n"
     ]
    },
    {
     "name": "stdout",
     "output_type": "stream",
     "text": [
      "Current Learning Rate: [0.0020215207235028862]\n",
      "Epoch 79:\n",
      "Loss- Train Loss: 0.25225998632563945,\n",
      "Val Loss: 0.30561295501708985,\n",
      "Train Accuracy: 0.9226738214492798,\n",
      "Val Accuracy: 0.9177600145339966\n",
      "\n"
     ]
    },
    {
     "name": "stderr",
     "output_type": "stream",
     "text": [
      "100%|██████████| 196/196 [00:53<00:00,  3.66it/s]\n",
      "100%|██████████| 49/49 [00:04<00:00, 11.83it/s]\n"
     ]
    },
    {
     "name": "stdout",
     "output_type": "stream",
     "text": [
      "Current Learning Rate: [0.0020013055162678576]\n",
      "Epoch 80:\n",
      "Loss- Train Loss: 0.2546818797536274,\n",
      "Val Loss: 0.2746831332397461,\n",
      "Train Accuracy: 0.9208136796951294,\n",
      "Val Accuracy: 0.9215999841690063\n",
      "\n"
     ]
    },
    {
     "name": "stderr",
     "output_type": "stream",
     "text": [
      "100%|██████████| 196/196 [00:54<00:00,  3.59it/s]\n",
      "100%|██████████| 49/49 [00:04<00:00, 11.67it/s]\n"
     ]
    },
    {
     "name": "stdout",
     "output_type": "stream",
     "text": [
      "Current Learning Rate: [0.001981292461105179]\n",
      "Epoch 81:\n",
      "Loss- Train Loss: 0.2574568670724371,\n",
      "Val Loss: 0.41919040466308594,\n",
      "Train Accuracy: 0.9211736917495728,\n",
      "Val Accuracy: 0.8785600066184998\n",
      "\n"
     ]
    },
    {
     "name": "stderr",
     "output_type": "stream",
     "text": [
      "100%|██████████| 196/196 [00:52<00:00,  3.70it/s]\n",
      "100%|██████████| 49/49 [00:04<00:00, 11.28it/s]\n"
     ]
    },
    {
     "name": "stdout",
     "output_type": "stream",
     "text": [
      "Current Learning Rate: [0.0019614795364941272]\n",
      "Epoch 82:\n",
      "Loss- Train Loss: 0.2489179386044609,\n",
      "Val Loss: 0.3018813021850586,\n",
      "Train Accuracy: 0.9227538108825684,\n",
      "Val Accuracy: 0.918720006942749\n",
      "\n"
     ]
    },
    {
     "name": "stderr",
     "output_type": "stream",
     "text": [
      "100%|██████████| 196/196 [00:53<00:00,  3.68it/s]\n",
      "100%|██████████| 49/49 [00:04<00:00, 11.11it/s]\n"
     ]
    },
    {
     "name": "stdout",
     "output_type": "stream",
     "text": [
      "Current Learning Rate: [0.001941864741129186]\n",
      "Epoch 83:\n",
      "Loss- Train Loss: 0.25424197929669823,\n",
      "Val Loss: 0.3277523471069336,\n",
      "Train Accuracy: 0.9225938320159912,\n",
      "Val Accuracy: 0.9083200097084045\n",
      "\n"
     ]
    },
    {
     "name": "stderr",
     "output_type": "stream",
     "text": [
      "100%|██████████| 196/196 [00:53<00:00,  3.63it/s]\n",
      "100%|██████████| 49/49 [00:04<00:00, 11.37it/s]\n"
     ]
    },
    {
     "name": "stdout",
     "output_type": "stream",
     "text": [
      "Current Learning Rate: [0.001922446093717894]\n",
      "Epoch 84:\n",
      "Loss- Train Loss: 0.23945394769002173,\n",
      "Val Loss: 0.3205455041503906,\n",
      "Train Accuracy: 0.9259140491485596,\n",
      "Val Accuracy: 0.9137600064277649\n",
      "\n"
     ]
    },
    {
     "name": "stderr",
     "output_type": "stream",
     "text": [
      "100%|██████████| 196/196 [00:55<00:00,  3.53it/s]\n",
      "100%|██████████| 49/49 [00:03<00:00, 12.82it/s]\n"
     ]
    },
    {
     "name": "stdout",
     "output_type": "stream",
     "text": [
      "Current Learning Rate: [0.001903221632780715]\n",
      "Epoch 85:\n",
      "Loss- Train Loss: 0.24501749515266397,\n",
      "Val Loss: 0.30117851135253904,\n",
      "Train Accuracy: 0.9250540137290955,\n",
      "Val Accuracy: 0.9084799885749817\n",
      "\n"
     ]
    },
    {
     "name": "stderr",
     "output_type": "stream",
     "text": [
      "100%|██████████| 196/196 [00:53<00:00,  3.63it/s]\n",
      "100%|██████████| 49/49 [00:04<00:00, 11.34it/s]\n"
     ]
    },
    {
     "name": "stdout",
     "output_type": "stream",
     "text": [
      "Current Learning Rate: [0.0018841894164529078]\n",
      "Epoch 86:\n",
      "Loss- Train Loss: 0.23636458726756734,\n",
      "Val Loss: 0.2881125228881836,\n",
      "Train Accuracy: 0.9281742572784424,\n",
      "Val Accuracy: 0.9120000004768372\n",
      "\n"
     ]
    },
    {
     "name": "stderr",
     "output_type": "stream",
     "text": [
      "100%|██████████| 196/196 [00:55<00:00,  3.54it/s]\n",
      "100%|██████████| 49/49 [00:04<00:00, 11.76it/s]\n"
     ]
    },
    {
     "name": "stdout",
     "output_type": "stream",
     "text": [
      "Best Model Found\n",
      "Current Learning Rate: [0.0018653475222883788]\n",
      "Epoch 87:\n",
      "Loss- Train Loss: 0.23351102623427158,\n",
      "Val Loss: 0.256699375,\n",
      "Train Accuracy: 0.9286742806434631,\n",
      "Val Accuracy: 0.9337599873542786\n",
      "\n"
     ]
    },
    {
     "name": "stderr",
     "output_type": "stream",
     "text": [
      "100%|██████████| 196/196 [01:02<00:00,  3.12it/s]\n",
      "100%|██████████| 49/49 [00:03<00:00, 12.33it/s]\n"
     ]
    },
    {
     "name": "stdout",
     "output_type": "stream",
     "text": [
      "Current Learning Rate: [0.001846694047065495]\n",
      "Epoch 88:\n",
      "Loss- Train Loss: 0.22910316216105395,\n",
      "Val Loss: 0.29527282943725586,\n",
      "Train Accuracy: 0.9286342859268188,\n",
      "Val Accuracy: 0.9192000031471252\n",
      "\n"
     ]
    },
    {
     "name": "stderr",
     "output_type": "stream",
     "text": [
      "100%|██████████| 196/196 [01:01<00:00,  3.20it/s]\n",
      "100%|██████████| 49/49 [00:04<00:00, 11.74it/s]\n"
     ]
    },
    {
     "name": "stdout",
     "output_type": "stream",
     "text": [
      "Current Learning Rate: [0.0018282271065948401]\n",
      "Epoch 89:\n",
      "Loss- Train Loss: 0.23422455247835844,\n",
      "Val Loss: 0.24921295471191407,\n",
      "Train Accuracy: 0.927814245223999,\n",
      "Val Accuracy: 0.9297599792480469\n",
      "\n"
     ]
    },
    {
     "name": "stderr",
     "output_type": "stream",
     "text": [
      "100%|██████████| 196/196 [00:54<00:00,  3.57it/s]\n",
      "100%|██████████| 49/49 [00:04<00:00, 11.41it/s]\n"
     ]
    },
    {
     "name": "stdout",
     "output_type": "stream",
     "text": [
      "Current Learning Rate: [0.0018099448355288917]\n",
      "Epoch 90:\n",
      "Loss- Train Loss: 0.2320896273127021,\n",
      "Val Loss: 0.27214231262207034,\n",
      "Train Accuracy: 0.9289743304252625,\n",
      "Val Accuracy: 0.920960009098053\n",
      "\n"
     ]
    },
    {
     "name": "stderr",
     "output_type": "stream",
     "text": [
      "100%|██████████| 196/196 [00:54<00:00,  3.61it/s]\n",
      "100%|██████████| 49/49 [00:04<00:00, 10.90it/s]\n"
     ]
    },
    {
     "name": "stdout",
     "output_type": "stream",
     "text": [
      "Current Learning Rate: [0.0017918453871736027]\n",
      "Epoch 91:\n",
      "Loss- Train Loss: 0.22361086360816337,\n",
      "Val Loss: 0.2590397457885742,\n",
      "Train Accuracy: 0.931954562664032,\n",
      "Val Accuracy: 0.9283199906349182\n",
      "\n"
     ]
    },
    {
     "name": "stderr",
     "output_type": "stream",
     "text": [
      "100%|██████████| 196/196 [00:56<00:00,  3.49it/s]\n",
      "100%|██████████| 49/49 [00:06<00:00,  7.89it/s]\n"
     ]
    },
    {
     "name": "stdout",
     "output_type": "stream",
     "text": [
      "Current Learning Rate: [0.0017739269333018667]\n",
      "Epoch 92:\n",
      "Loss- Train Loss: 0.22242881534709788,\n",
      "Val Loss: 0.26553957794189453,\n",
      "Train Accuracy: 0.9310944676399231,\n",
      "Val Accuracy: 0.9276800155639648\n",
      "\n"
     ]
    },
    {
     "name": "stderr",
     "output_type": "stream",
     "text": [
      "100%|██████████| 196/196 [00:57<00:00,  3.42it/s]\n",
      "100%|██████████| 49/49 [00:04<00:00, 11.20it/s]\n"
     ]
    },
    {
     "name": "stdout",
     "output_type": "stream",
     "text": [
      "Current Learning Rate: [0.001756187663968848]\n",
      "Epoch 93:\n",
      "Loss- Train Loss: 0.22215677431196448,\n",
      "Val Loss: 0.3136349307250977,\n",
      "Train Accuracy: 0.9319345355033875,\n",
      "Val Accuracy: 0.9049599766731262\n",
      "\n"
     ]
    },
    {
     "name": "stderr",
     "output_type": "stream",
     "text": [
      "100%|██████████| 196/196 [00:55<00:00,  3.56it/s]\n",
      "100%|██████████| 49/49 [00:04<00:00, 10.29it/s]\n"
     ]
    },
    {
     "name": "stdout",
     "output_type": "stream",
     "text": [
      "Best Model Found\n",
      "Current Learning Rate: [0.0017386257873291595]\n",
      "Epoch 94:\n",
      "Loss- Train Loss: 0.2208782903422679,\n",
      "Val Loss: 0.2437287467956543,\n",
      "Train Accuracy: 0.9321345686912537,\n",
      "Val Accuracy: 0.9393600225448608\n",
      "\n"
     ]
    },
    {
     "name": "stderr",
     "output_type": "stream",
     "text": [
      "100%|██████████| 196/196 [00:57<00:00,  3.40it/s]\n",
      "100%|██████████| 49/49 [00:04<00:00, 11.18it/s]\n"
     ]
    },
    {
     "name": "stdout",
     "output_type": "stream",
     "text": [
      "Current Learning Rate: [0.0017212395294558679]\n",
      "Epoch 95:\n",
      "Loss- Train Loss: 0.2172549510252019,\n",
      "Val Loss: 0.25992011795043946,\n",
      "Train Accuracy: 0.9326146245002747,\n",
      "Val Accuracy: 0.9329599738121033\n",
      "\n"
     ]
    },
    {
     "name": "stderr",
     "output_type": "stream",
     "text": [
      "100%|██████████| 196/196 [00:57<00:00,  3.43it/s]\n",
      "100%|██████████| 49/49 [00:04<00:00, 10.78it/s]\n"
     ]
    },
    {
     "name": "stdout",
     "output_type": "stream",
     "text": [
      "Current Learning Rate: [0.0017040271341613091]\n",
      "Epoch 96:\n",
      "Loss- Train Loss: 0.21557091751025384,\n",
      "Val Loss: 0.2692198699951172,\n",
      "Train Accuracy: 0.9328746199607849,\n",
      "Val Accuracy: 0.9313600063323975\n",
      "\n"
     ]
    },
    {
     "name": "stderr",
     "output_type": "stream",
     "text": [
      "100%|██████████| 196/196 [00:56<00:00,  3.46it/s]\n",
      "100%|██████████| 49/49 [00:04<00:00, 10.65it/s]\n"
     ]
    },
    {
     "name": "stdout",
     "output_type": "stream",
     "text": [
      "Current Learning Rate: [0.001686986862819696]\n",
      "Epoch 97:\n",
      "Loss- Train Loss: 0.21007063118150038,\n",
      "Val Loss: 0.257266103515625,\n",
      "Train Accuracy: 0.9359948635101318,\n",
      "Val Accuracy: 0.9272000193595886\n",
      "\n"
     ]
    },
    {
     "name": "stderr",
     "output_type": "stream",
     "text": [
      "100%|██████████| 196/196 [00:54<00:00,  3.62it/s]\n",
      "100%|██████████| 49/49 [00:04<00:00, 10.86it/s]\n"
     ]
    },
    {
     "name": "stdout",
     "output_type": "stream",
     "text": [
      "Current Learning Rate: [0.001670116994191499]\n",
      "Epoch 98:\n",
      "Loss- Train Loss: 0.20452329202388436,\n",
      "Val Loss: 0.2613550129699707,\n",
      "Train Accuracy: 0.9372749924659729,\n",
      "Val Accuracy: 0.9340800046920776\n",
      "\n"
     ]
    },
    {
     "name": "stderr",
     "output_type": "stream",
     "text": [
      "100%|██████████| 196/196 [00:54<00:00,  3.58it/s]\n",
      "100%|██████████| 49/49 [00:04<00:00, 11.57it/s]\n"
     ]
    },
    {
     "name": "stdout",
     "output_type": "stream",
     "text": [
      "Best Model Found\n",
      "Current Learning Rate: [0.001653415824249584]\n",
      "Epoch 99:\n",
      "Loss- Train Loss: 0.20517140535824166,\n",
      "Val Loss: 0.21523196853637697,\n",
      "Train Accuracy: 0.9355948567390442,\n",
      "Val Accuracy: 0.9505599737167358\n",
      "\n"
     ]
    },
    {
     "name": "stderr",
     "output_type": "stream",
     "text": [
      "100%|██████████| 196/196 [00:53<00:00,  3.68it/s]\n",
      "100%|██████████| 49/49 [00:04<00:00, 11.52it/s]"
     ]
    },
    {
     "name": "stdout",
     "output_type": "stream",
     "text": [
      "Current Learning Rate: [0.0016368816660070882]\n",
      "Epoch 100:\n",
      "Loss- Train Loss: 0.20798057681589624,\n",
      "Val Loss: 0.30323916412353513,\n",
      "Train Accuracy: 0.9348347783088684,\n",
      "Val Accuracy: 0.9174399971961975\n",
      "\n"
     ]
    },
    {
     "name": "stderr",
     "output_type": "stream",
     "text": [
      "\n"
     ]
    }
   ],
   "source": [
    "net = HandGNN(num_classes=26)\n",
    "net.fit(train_loader, val_loader, epochs = 100, lr = 1e-2)\n"
   ]
  },
  {
   "cell_type": "code",
   "execution_count": 121,
   "id": "df811815",
   "metadata": {},
   "outputs": [],
   "source": [
    "torch.save(net.best_model_state_dict, 'best_state.pt')\n",
    "\n",
    "best_net = torch.load('best_state.pt')"
   ]
  },
  {
   "cell_type": "code",
   "execution_count": 110,
   "id": "bc80d266",
   "metadata": {},
   "outputs": [
    {
     "data": {
      "text/plain": [
       "Text(0.5, 0, 'epoch')"
      ]
     },
     "execution_count": 110,
     "metadata": {},
     "output_type": "execute_result"
    },
    {
     "data": {
      "image/png": "[encoded data removed]",
      "text/plain": [
       "<Figure size 640x480 with 1 Axes>"
      ]
     },
     "metadata": {},
     "output_type": "display_data"
    }
   ],
   "source": [
    "plt.plot(range(1, net.trained_epochs+1), net.train_loss_history)\n",
    "plt.plot(range(1, net.trained_epochs+1), net.val_loss_history)\n",
    "plt.legend(['train','validation'], frameon=False)\n",
    "plt.ylabel('loss')\n",
    "plt.xlabel('epoch')"
   ]
  },
  {
   "cell_type": "code",
   "execution_count": null,
   "id": "c5eb8075",
   "metadata": {},
   "outputs": [],
   "source": []
  },
  {
   "cell_type": "code",
   "execution_count": null,
   "id": "74798e11",
   "metadata": {},
   "outputs": [
    {
     "name": "stderr",
     "output_type": "stream",
     "text": [
      "  0%|          | 0/177 [00:00<?, ?it/s]\n"
     ]
    },
    {
     "ename": "TypeError",
     "evalue": "unsupported operand type(s) for +: 'Tensor' and 'str'",
     "output_type": "error",
     "traceback": [
      "\u001b[0;31m---------------------------------------------------------------------------\u001b[0m",
      "\u001b[0;31mTypeError\u001b[0m                                 Traceback (most recent call last)",
      "Cell \u001b[0;32mIn[124], line 5\u001b[0m\n\u001b[1;32m      3\u001b[0m \u001b[38;5;28;01mwith\u001b[39;00m torch\u001b[38;5;241m.\u001b[39mno_grad():\n\u001b[1;32m      4\u001b[0m     \u001b[38;5;28;01mfor\u001b[39;00m data \u001b[38;5;129;01min\u001b[39;00m tqdm(test_loader):\n\u001b[0;32m----> 5\u001b[0m         pred_here \u001b[38;5;241m=\u001b[39m \u001b[43mbest_net\u001b[49m\u001b[43m(\u001b[49m\u001b[43mdata\u001b[49m\u001b[38;5;241;43m.\u001b[39;49m\u001b[43mx\u001b[49m\u001b[43m,\u001b[49m\u001b[43m \u001b[49m\u001b[43mdata\u001b[49m\u001b[38;5;241;43m.\u001b[39;49m\u001b[43medge_index\u001b[49m\u001b[43m,\u001b[49m\u001b[43m \u001b[49m\u001b[43mdata\u001b[49m\u001b[38;5;241;43m.\u001b[39;49m\u001b[43mbatch\u001b[49m\u001b[43m)\u001b[49m\u001b[38;5;241m.\u001b[39margmax(dim\u001b[38;5;241m=\u001b[39m\u001b[38;5;241m1\u001b[39m)\n\u001b[1;32m      6\u001b[0m         preds\u001b[38;5;241m.\u001b[39mextend(pred_here)\n\u001b[1;32m      8\u001b[0m \u001b[38;5;28mprint\u001b[39m(\u001b[38;5;124mf\u001b[39m\u001b[38;5;124m'\u001b[39m\u001b[38;5;124mTest Accuracy: \u001b[39m\u001b[38;5;132;01m{\u001b[39;00mnp\u001b[38;5;241m.\u001b[39mmean(np\u001b[38;5;241m.\u001b[39marray(preds)\u001b[38;5;250m \u001b[39m\u001b[38;5;241m==\u001b[39m\u001b[38;5;250m \u001b[39mtruth)\u001b[38;5;132;01m}\u001b[39;00m\u001b[38;5;124m'\u001b[39m)\n",
      "File \u001b[0;32m/opt/anaconda3/envs/ASL_Project2/lib/python3.10/site-packages/torch/nn/modules/module.py:1913\u001b[0m, in \u001b[0;36mModule.state_dict\u001b[0;34m(self, destination, prefix, keep_vars, *args)\u001b[0m\n\u001b[1;32m   1911\u001b[0m \u001b[38;5;28;01mfor\u001b[39;00m hook \u001b[38;5;129;01min\u001b[39;00m \u001b[38;5;28mself\u001b[39m\u001b[38;5;241m.\u001b[39m_state_dict_pre_hooks\u001b[38;5;241m.\u001b[39mvalues():\n\u001b[1;32m   1912\u001b[0m     hook(\u001b[38;5;28mself\u001b[39m, prefix, keep_vars)\n\u001b[0;32m-> 1913\u001b[0m \u001b[38;5;28;43mself\u001b[39;49m\u001b[38;5;241;43m.\u001b[39;49m\u001b[43m_save_to_state_dict\u001b[49m\u001b[43m(\u001b[49m\u001b[43mdestination\u001b[49m\u001b[43m,\u001b[49m\u001b[43m \u001b[49m\u001b[43mprefix\u001b[49m\u001b[43m,\u001b[49m\u001b[43m \u001b[49m\u001b[43mkeep_vars\u001b[49m\u001b[43m)\u001b[49m\n\u001b[1;32m   1914\u001b[0m \u001b[38;5;28;01mfor\u001b[39;00m name, module \u001b[38;5;129;01min\u001b[39;00m \u001b[38;5;28mself\u001b[39m\u001b[38;5;241m.\u001b[39m_modules\u001b[38;5;241m.\u001b[39mitems():\n\u001b[1;32m   1915\u001b[0m     \u001b[38;5;28;01mif\u001b[39;00m module \u001b[38;5;129;01mis\u001b[39;00m \u001b[38;5;129;01mnot\u001b[39;00m \u001b[38;5;28;01mNone\u001b[39;00m:\n",
      "File \u001b[0;32m/opt/anaconda3/envs/ASL_Project2/lib/python3.10/site-packages/torch/nn/modules/module.py:1827\u001b[0m, in \u001b[0;36mModule._save_to_state_dict\u001b[0;34m(self, destination, prefix, keep_vars)\u001b[0m\n\u001b[1;32m   1825\u001b[0m     \u001b[38;5;28;01mif\u001b[39;00m buf \u001b[38;5;129;01mis\u001b[39;00m \u001b[38;5;129;01mnot\u001b[39;00m \u001b[38;5;28;01mNone\u001b[39;00m \u001b[38;5;129;01mand\u001b[39;00m name \u001b[38;5;129;01mnot\u001b[39;00m \u001b[38;5;129;01min\u001b[39;00m \u001b[38;5;28mself\u001b[39m\u001b[38;5;241m.\u001b[39m_non_persistent_buffers_set:\n\u001b[1;32m   1826\u001b[0m         destination[prefix \u001b[38;5;241m+\u001b[39m name] \u001b[38;5;241m=\u001b[39m buf \u001b[38;5;28;01mif\u001b[39;00m keep_vars \u001b[38;5;28;01melse\u001b[39;00m buf\u001b[38;5;241m.\u001b[39mdetach()\n\u001b[0;32m-> 1827\u001b[0m extra_state_key \u001b[38;5;241m=\u001b[39m \u001b[43mprefix\u001b[49m\u001b[43m \u001b[49m\u001b[38;5;241;43m+\u001b[39;49m\u001b[43m \u001b[49m\u001b[43m_EXTRA_STATE_KEY_SUFFIX\u001b[49m\n\u001b[1;32m   1828\u001b[0m \u001b[38;5;28;01mif\u001b[39;00m \u001b[38;5;28mgetattr\u001b[39m(\u001b[38;5;28mself\u001b[39m\u001b[38;5;241m.\u001b[39m\u001b[38;5;18m__class__\u001b[39m, \u001b[38;5;124m\"\u001b[39m\u001b[38;5;124mget_extra_state\u001b[39m\u001b[38;5;124m\"\u001b[39m, Module\u001b[38;5;241m.\u001b[39mget_extra_state) \u001b[38;5;129;01mis\u001b[39;00m \u001b[38;5;129;01mnot\u001b[39;00m Module\u001b[38;5;241m.\u001b[39mget_extra_state:\n\u001b[1;32m   1829\u001b[0m     destination[extra_state_key] \u001b[38;5;241m=\u001b[39m \u001b[38;5;28mself\u001b[39m\u001b[38;5;241m.\u001b[39mget_extra_state()\n",
      "\u001b[0;31mTypeError\u001b[0m: unsupported operand type(s) for +: 'Tensor' and 'str'"
     ]
    }
   ],
   "source": [
    "\n"
   ]
  }
 ],
 "metadata": {
  "kernelspec": {
   "display_name": "ASL_Project2",
   "language": "python",
   "name": "python3"
  },
  "language_info": {
   "codemirror_mode": {
    "name": "ipython",
    "version": 3
   },
   "file_extension": ".py",
   "mimetype": "text/x-python",
   "name": "python",
   "nbconvert_exporter": "python",
   "pygments_lexer": "ipython3",
   "version": "3.10.16"
  }
 },
 "nbformat": 4,
 "nbformat_minor": 5
}
